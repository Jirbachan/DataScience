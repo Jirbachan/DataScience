{
 "cells": [
  {
   "cell_type": "markdown",
   "metadata": {},
   "source": [
    "# Gradient descent principles"
   ]
  },
  {
   "cell_type": "markdown",
   "metadata": {},
   "source": [
    "## Gradient descent methods "
   ]
  },
  {
   "cell_type": "markdown",
   "metadata": {},
   "source": [
    "### A simple quadratic function"
   ]
  },
  {
   "cell_type": "markdown",
   "metadata": {},
   "source": [
    "First of all we define the gradient of the function that is going to be studied:"
   ]
  },
  {
   "cell_type": "code",
   "execution_count": 39,
   "metadata": {},
   "outputs": [],
   "source": [
    "def grad_quad_function(point):\n",
    "    return 2*point"
   ]
  },
  {
   "cell_type": "markdown",
   "metadata": {},
   "source": [
    "Given an initial point, our aim is to try and find the minimum by performing a descent guided by the gradient calculated after each iteration:"
   ]
  },
  {
   "cell_type": "markdown",
   "metadata": {},
   "source": [
    "$$x^{k+1}= x^k - \\alpha^k \\nabla f(x^k)$$"
   ]
  },
  {
   "cell_type": "code",
   "execution_count": 46,
   "metadata": {},
   "outputs": [
    {
     "data": {
      "text/plain": [
       "[[0, 5],\n",
       " [0.0, 4.0],\n",
       " [0.0, 3.2],\n",
       " [0.0, 2.56],\n",
       " [0.0, 2.048],\n",
       " [0.0, 1.6384],\n",
       " [0.0, 1.31072],\n",
       " [0.0, 1.0485760000000002],\n",
       " [0.0, 0.8388608000000002],\n",
       " [0.0, 0.6710886400000001],\n",
       " [0.0, 0.5368709120000001],\n",
       " [0.0, 0.4294967296000001],\n",
       " [0.0, 0.3435973836800001],\n",
       " [0.0, 0.27487790694400005],\n",
       " [0.0, 0.21990232555520003],\n",
       " [0.0, 0.17592186044416003],\n",
       " [0.0, 0.140737488355328],\n",
       " [0.0, 0.11258999068426241],\n",
       " [0.0, 0.09007199254740993],\n",
       " [0.0, 0.07205759403792794],\n",
       " [0.0, 0.057646075230342354],\n",
       " [0.0, 0.04611686018427388],\n",
       " [0.0, 0.03689348814741911],\n",
       " [0.0, 0.029514790517935284],\n",
       " [0.0, 0.02361183241434823],\n",
       " [0.0, 0.018889465931478583],\n",
       " [0.0, 0.015111572745182867],\n",
       " [0.0, 0.012089258196146294],\n",
       " [0.0, 0.009671406556917036],\n",
       " [0.0, 0.007737125245533628],\n",
       " [0.0, 0.006189700196426903],\n",
       " [0.0, 0.004951760157141522],\n",
       " [0.0, 0.003961408125713218],\n",
       " [0.0, 0.0031691265005705745],\n",
       " [0.0, 0.00253530120045646],\n",
       " [0.0, 0.0020282409603651678],\n",
       " [0.0, 0.0016225927682921343],\n",
       " [0.0, 0.0012980742146337075],\n",
       " [0.0, 0.001038459371706966],\n",
       " [0.0, 0.0008307674973655728],\n",
       " [0.0, 0.0006646139978924582],\n",
       " [0.0, 0.0005316911983139665],\n",
       " [0.0, 0.00042535295865117324],\n",
       " [0.0, 0.0003402823669209386],\n",
       " [0.0, 0.00027222589353675085],\n",
       " [0.0, 0.0002177807148294007],\n",
       " [0.0, 0.00017422457186352054],\n",
       " [0.0, 0.00013937965749081642],\n",
       " [0.0, 0.00011150372599265314],\n",
       " [0.0, 8.920298079412252e-05],\n",
       " [0.0, 7.136238463529802e-05],\n",
       " [0.0, 5.7089907708238416e-05],\n",
       " [0.0, 4.567192616659073e-05],\n",
       " [0.0, 3.653754093327259e-05],\n",
       " [0.0, 2.923003274661807e-05],\n",
       " [0.0, 2.3384026197294454e-05],\n",
       " [0.0, 1.8707220957835564e-05],\n",
       " [0.0, 1.4965776766268452e-05],\n",
       " [0.0, 1.1972621413014761e-05],\n",
       " [0.0, 9.578097130411809e-06],\n",
       " [0.0, 7.662477704329448e-06],\n",
       " [0.0, 6.129982163463559e-06],\n",
       " [0.0, 4.903985730770847e-06],\n",
       " [0.0, 3.923188584616677e-06],\n",
       " [0.0, 3.138550867693342e-06],\n",
       " [0.0, 2.5108406941546735e-06],\n",
       " [0.0, 2.008672555323739e-06],\n",
       " [0.0, 1.606938044258991e-06],\n",
       " [0.0, 1.2855504354071928e-06],\n",
       " [0.0, 1.0284403483257543e-06],\n",
       " [0.0, 8.227522786606034e-07],\n",
       " [0.0, 6.582018229284827e-07],\n",
       " [0.0, 5.265614583427862e-07],\n",
       " [0.0, 4.2124916667422894e-07],\n",
       " [0.0, 3.3699933333938316e-07],\n",
       " [0.0, 2.6959946667150655e-07],\n",
       " [0.0, 2.1567957333720524e-07],\n",
       " [0.0, 1.725436586697642e-07],\n",
       " [0.0, 1.3803492693581135e-07],\n",
       " [0.0, 1.1042794154864907e-07],\n",
       " [0.0, 8.834235323891926e-08],\n",
       " [0.0, 7.067388259113541e-08],\n",
       " [0.0, 5.653910607290833e-08],\n",
       " [0.0, 4.5231284858326664e-08],\n",
       " [0.0, 3.618502788666133e-08],\n",
       " [0.0, 2.8948022309329066e-08],\n",
       " [0.0, 2.3158417847463252e-08],\n",
       " [0.0, 1.8526734277970603e-08],\n",
       " [0.0, 1.4821387422376482e-08],\n",
       " [0.0, 1.1857109937901186e-08],\n",
       " [0.0, 9.485687950320948e-09],\n",
       " [0.0, 7.588550360256759e-09],\n",
       " [0.0, 6.070840288205408e-09],\n",
       " [0.0, 4.856672230564326e-09],\n",
       " [0.0, 3.885337784451461e-09],\n",
       " [0.0, 3.108270227561169e-09],\n",
       " [0.0, 2.4866161820489353e-09],\n",
       " [0.0, 1.989292945639148e-09],\n",
       " [0.0, 1.5914343565113183e-09]]"
      ]
     },
     "execution_count": 46,
     "metadata": {},
     "output_type": "execute_result"
    }
   ],
   "source": [
    "# we define alpha and x0 = [x1,x2] = point\n",
    "alpha = 0.1\n",
    "point = pd.Series([0,5])\n",
    "x=[]\n",
    "\n",
    "#iteration\n",
    "for i in range(1,100):\n",
    "    x.append(point.tolist())\n",
    "    point = point - alpha*grad_quad_function(point)\n",
    "\n",
    "x"
   ]
  },
  {
   "cell_type": "markdown",
   "metadata": {},
   "source": [
    "### A more complex function"
   ]
  },
  {
   "cell_type": "code",
   "execution_count": null,
   "metadata": {},
   "outputs": [],
   "source": []
  },
  {
   "cell_type": "markdown",
   "metadata": {},
   "source": [
    "### The Rosenbrock function"
   ]
  },
  {
   "cell_type": "code",
   "execution_count": null,
   "metadata": {},
   "outputs": [],
   "source": []
  },
  {
   "cell_type": "markdown",
   "metadata": {},
   "source": [
    "## Newton descent method"
   ]
  },
  {
   "cell_type": "markdown",
   "metadata": {},
   "source": [
    "### A simple quadratic function"
   ]
  },
  {
   "cell_type": "code",
   "execution_count": null,
   "metadata": {},
   "outputs": [],
   "source": []
  },
  {
   "cell_type": "markdown",
   "metadata": {},
   "source": [
    "### A more complex function"
   ]
  },
  {
   "cell_type": "code",
   "execution_count": null,
   "metadata": {},
   "outputs": [],
   "source": []
  },
  {
   "cell_type": "markdown",
   "metadata": {},
   "source": [
    "### The Rosenbrock function"
   ]
  },
  {
   "cell_type": "code",
   "execution_count": null,
   "metadata": {},
   "outputs": [],
   "source": []
  }
 ],
 "metadata": {
  "kernelspec": {
   "display_name": "Python 3",
   "language": "python",
   "name": "python3"
  },
  "language_info": {
   "codemirror_mode": {
    "name": "ipython",
    "version": 3
   },
   "file_extension": ".py",
   "mimetype": "text/x-python",
   "name": "python",
   "nbconvert_exporter": "python",
   "pygments_lexer": "ipython3",
   "version": "3.8.3"
  }
 },
 "nbformat": 4,
 "nbformat_minor": 4
}
